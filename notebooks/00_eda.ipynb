{
 "cells": [
  {
   "cell_type": "markdown",
   "id": "df028828-5472-4714-9780-3523678fe489",
   "metadata": {},
   "source": [
    "# EDA Books from Amazon Dataset"
   ]
  },
  {
   "cell_type": "markdown",
   "id": "915148ef-2bdb-4051-abb4-b39b504e605a",
   "metadata": {},
   "source": []
  },
  {
   "cell_type": "code",
   "execution_count": 2,
   "id": "8468ecae-ac1c-4bbb-a588-aaafd39ff63b",
   "metadata": {},
   "outputs": [
    {
     "name": "stdout",
     "output_type": "stream",
     "text": [
      "C:\\Users\\jplak\\projects\\women_books\n"
     ]
    },
    {
     "name": "stderr",
     "output_type": "stream",
     "text": [
      "C:\\Users\\jplak\\AppData\\Local\\Packages\\PythonSoftwareFoundation.Python.3.10_qbz5n2kfra8p0\\LocalCache\\Local\\pypoetry\\Cache\\virtualenvs\\women-books-tYhTzxuG-py3.10\\lib\\site-packages\\IPython\\core\\magics\\osm.py:417: UserWarning: using dhist requires you to install the `pickleshare` library.\n",
      "  self.shell.db['dhist'] = compress_dhist(dhist)[-100:]\n"
     ]
    }
   ],
   "source": [
    "%cd .."
   ]
  },
  {
   "cell_type": "code",
   "execution_count": 1,
   "id": "d26852f2-7463-4c5f-be04-e8fac527e999",
   "metadata": {},
   "outputs": [],
   "source": [
    "import pandas as pd"
   ]
  },
  {
   "cell_type": "code",
   "execution_count": 24,
   "id": "e6ffd718-13a5-4394-b199-42240fdcd125",
   "metadata": {},
   "outputs": [],
   "source": [
    "df = pd.read_parquet(\"./datasets/2024-01-19_books.parquet\")"
   ]
  },
  {
   "cell_type": "code",
   "execution_count": 25,
   "id": "ee06c008-741b-41ef-b02d-a5e647a20782",
   "metadata": {},
   "outputs": [
    {
     "data": {
      "text/html": [
       "<div>\n",
       "<style scoped>\n",
       "    .dataframe tbody tr th:only-of-type {\n",
       "        vertical-align: middle;\n",
       "    }\n",
       "\n",
       "    .dataframe tbody tr th {\n",
       "        vertical-align: top;\n",
       "    }\n",
       "\n",
       "    .dataframe thead th {\n",
       "        text-align: right;\n",
       "    }\n",
       "</style>\n",
       "<table border=\"1\" class=\"dataframe\">\n",
       "  <thead>\n",
       "    <tr style=\"text-align: right;\">\n",
       "      <th></th>\n",
       "      <th>ISBN</th>\n",
       "      <th>Book-Title</th>\n",
       "      <th>Book-Author</th>\n",
       "      <th>Year-Of-Publication</th>\n",
       "      <th>Publisher</th>\n",
       "      <th>Image-URL-M</th>\n",
       "    </tr>\n",
       "  </thead>\n",
       "  <tbody>\n",
       "    <tr>\n",
       "      <th>0</th>\n",
       "      <td>195153448</td>\n",
       "      <td>Classical Mythology</td>\n",
       "      <td>Mark P. O. Morford</td>\n",
       "      <td>2002</td>\n",
       "      <td>Oxford University Press</td>\n",
       "      <td>http://images.amazon.com/images/P/0195153448.0...</td>\n",
       "    </tr>\n",
       "    <tr>\n",
       "      <th>1</th>\n",
       "      <td>2005018</td>\n",
       "      <td>Clara Callan</td>\n",
       "      <td>Richard Bruce Wright</td>\n",
       "      <td>2001</td>\n",
       "      <td>HarperFlamingo Canada</td>\n",
       "      <td>http://images.amazon.com/images/P/0002005018.0...</td>\n",
       "    </tr>\n",
       "    <tr>\n",
       "      <th>2</th>\n",
       "      <td>60973129</td>\n",
       "      <td>Decision in Normandy</td>\n",
       "      <td>Carlo D'Este</td>\n",
       "      <td>1991</td>\n",
       "      <td>HarperPerennial</td>\n",
       "      <td>http://images.amazon.com/images/P/0060973129.0...</td>\n",
       "    </tr>\n",
       "    <tr>\n",
       "      <th>3</th>\n",
       "      <td>374157065</td>\n",
       "      <td>Flu: The Story of the Great Influenza Pandemic...</td>\n",
       "      <td>Gina Bari Kolata</td>\n",
       "      <td>1999</td>\n",
       "      <td>Farrar Straus Giroux</td>\n",
       "      <td>http://images.amazon.com/images/P/0374157065.0...</td>\n",
       "    </tr>\n",
       "    <tr>\n",
       "      <th>4</th>\n",
       "      <td>393045218</td>\n",
       "      <td>The Mummies of Urumchi</td>\n",
       "      <td>E. J. W. Barber</td>\n",
       "      <td>1999</td>\n",
       "      <td>W. W. Norton &amp;amp; Company</td>\n",
       "      <td>http://images.amazon.com/images/P/0393045218.0...</td>\n",
       "    </tr>\n",
       "  </tbody>\n",
       "</table>\n",
       "</div>"
      ],
      "text/plain": [
       "        ISBN                                         Book-Title  \\\n",
       "0  195153448                                Classical Mythology   \n",
       "1    2005018                                       Clara Callan   \n",
       "2   60973129                               Decision in Normandy   \n",
       "3  374157065  Flu: The Story of the Great Influenza Pandemic...   \n",
       "4  393045218                             The Mummies of Urumchi   \n",
       "\n",
       "            Book-Author Year-Of-Publication                   Publisher  \\\n",
       "0    Mark P. O. Morford                2002     Oxford University Press   \n",
       "1  Richard Bruce Wright                2001       HarperFlamingo Canada   \n",
       "2          Carlo D'Este                1991             HarperPerennial   \n",
       "3      Gina Bari Kolata                1999        Farrar Straus Giroux   \n",
       "4       E. J. W. Barber                1999  W. W. Norton &amp; Company   \n",
       "\n",
       "                                         Image-URL-M  \n",
       "0  http://images.amazon.com/images/P/0195153448.0...  \n",
       "1  http://images.amazon.com/images/P/0002005018.0...  \n",
       "2  http://images.amazon.com/images/P/0060973129.0...  \n",
       "3  http://images.amazon.com/images/P/0374157065.0...  \n",
       "4  http://images.amazon.com/images/P/0393045218.0...  "
      ]
     },
     "execution_count": 25,
     "metadata": {},
     "output_type": "execute_result"
    }
   ],
   "source": [
    "df.head()"
   ]
  },
  {
   "cell_type": "code",
   "execution_count": 26,
   "id": "fce68da6-e0e1-46d0-af63-163d78efffa3",
   "metadata": {},
   "outputs": [
    {
     "name": "stdout",
     "output_type": "stream",
     "text": [
      "<class 'pandas.core.frame.DataFrame'>\n",
      "RangeIndex: 271379 entries, 0 to 271378\n",
      "Data columns (total 6 columns):\n",
      " #   Column               Non-Null Count   Dtype \n",
      "---  ------               --------------   ----- \n",
      " 0   ISBN                 271379 non-null  object\n",
      " 1   Book-Title           271379 non-null  object\n",
      " 2   Book-Author          271379 non-null  object\n",
      " 3   Year-Of-Publication  271379 non-null  object\n",
      " 4   Publisher            271379 non-null  object\n",
      " 5   Image-URL-M          271379 non-null  object\n",
      "dtypes: object(6)\n",
      "memory usage: 12.4+ MB\n"
     ]
    }
   ],
   "source": [
    "df.info()"
   ]
  },
  {
   "cell_type": "code",
   "execution_count": 38,
   "id": "906392c6-a86e-4866-b688-c38824e40c24",
   "metadata": {},
   "outputs": [
    {
     "data": {
      "text/plain": [
       "<Axes: >"
      ]
     },
     "execution_count": 38,
     "metadata": {},
     "output_type": "execute_result"
    },
    {
     "data": {
      "image/png": "[encoded data removed]",
      "text/plain": [
       "<Figure size 640x480 with 1 Axes>"
      ]
     },
     "metadata": {},
     "output_type": "display_data"
    }
   ],
   "source": [
    "df[\"Book-Author\"].str.split().apply(lambda x: len(x)).hist()"
   ]
  },
  {
   "cell_type": "code",
   "execution_count": 41,
   "id": "21cad6b8-9767-48db-b275-def9924c1d03",
   "metadata": {},
   "outputs": [],
   "source": [
    "name_lengths = df[\"Book-Author\"].str.split().apply(lambda x: len(x))"
   ]
  },
  {
   "cell_type": "code",
   "execution_count": 42,
   "id": "4db61af5-c149-4c18-9360-b864276b8195",
   "metadata": {},
   "outputs": [
    {
     "data": {
      "text/plain": [
       "Book-Author\n",
       "2     206608\n",
       "3      55443\n",
       "1       4990\n",
       "4       3650\n",
       "5        485\n",
       "6        116\n",
       "7         45\n",
       "8         24\n",
       "9          9\n",
       "10         3\n",
       "11         2\n",
       "18         1\n",
       "12         1\n",
       "14         1\n",
       "21         1\n",
       "Name: count, dtype: int64"
      ]
     },
     "execution_count": 42,
     "metadata": {},
     "output_type": "execute_result"
    }
   ],
   "source": [
    "name_lengths.value_counts()"
   ]
  },
  {
   "cell_type": "code",
   "execution_count": 44,
   "id": "8c0eb581-fed2-4dce-b0ee-ba2d232686a0",
   "metadata": {},
   "outputs": [
    {
     "data": {
      "text/html": [
       "<div>\n",
       "<style scoped>\n",
       "    .dataframe tbody tr th:only-of-type {\n",
       "        vertical-align: middle;\n",
       "    }\n",
       "\n",
       "    .dataframe tbody tr th {\n",
       "        vertical-align: top;\n",
       "    }\n",
       "\n",
       "    .dataframe thead th {\n",
       "        text-align: right;\n",
       "    }\n",
       "</style>\n",
       "<table border=\"1\" class=\"dataframe\">\n",
       "  <thead>\n",
       "    <tr style=\"text-align: right;\">\n",
       "      <th></th>\n",
       "      <th>ISBN</th>\n",
       "      <th>Book-Title</th>\n",
       "      <th>Book-Author</th>\n",
       "      <th>Year-Of-Publication</th>\n",
       "      <th>Publisher</th>\n",
       "      <th>Image-URL-M</th>\n",
       "    </tr>\n",
       "  </thead>\n",
       "  <tbody>\n",
       "    <tr>\n",
       "      <th>0</th>\n",
       "      <td>195153448</td>\n",
       "      <td>Classical Mythology</td>\n",
       "      <td>Mark P. O. Morford</td>\n",
       "      <td>2002</td>\n",
       "      <td>Oxford University Press</td>\n",
       "      <td>http://images.amazon.com/images/P/0195153448.0...</td>\n",
       "    </tr>\n",
       "    <tr>\n",
       "      <th>4</th>\n",
       "      <td>393045218</td>\n",
       "      <td>The Mummies of Urumchi</td>\n",
       "      <td>E. J. W. Barber</td>\n",
       "      <td>1999</td>\n",
       "      <td>W. W. Norton &amp;amp; Company</td>\n",
       "      <td>http://images.amazon.com/images/P/0393045218.0...</td>\n",
       "    </tr>\n",
       "    <tr>\n",
       "      <th>23</th>\n",
       "      <td>61076031</td>\n",
       "      <td>Mary-Kate &amp;amp; Ashley Switching Goals (Mary-K...</td>\n",
       "      <td>Mary-Kate &amp;amp; Ashley Olsen</td>\n",
       "      <td>2000</td>\n",
       "      <td>HarperEntertainment</td>\n",
       "      <td>http://images.amazon.com/images/P/0061076031.0...</td>\n",
       "    </tr>\n",
       "    <tr>\n",
       "      <th>53</th>\n",
       "      <td>60914068</td>\n",
       "      <td>Love, Medicine and Miracles</td>\n",
       "      <td>M.D. Bernie S. Siegel</td>\n",
       "      <td>1988</td>\n",
       "      <td>HarperCollins Publishers</td>\n",
       "      <td>http://images.amazon.com/images/P/0060914068.0...</td>\n",
       "    </tr>\n",
       "    <tr>\n",
       "      <th>57</th>\n",
       "      <td>553280333</td>\n",
       "      <td>Getting Well Again</td>\n",
       "      <td>O. Carol Simonton Md</td>\n",
       "      <td>1992</td>\n",
       "      <td>Bantam</td>\n",
       "      <td>http://images.amazon.com/images/P/0553280333.0...</td>\n",
       "    </tr>\n",
       "    <tr>\n",
       "      <th>...</th>\n",
       "      <td>...</td>\n",
       "      <td>...</td>\n",
       "      <td>...</td>\n",
       "      <td>...</td>\n",
       "      <td>...</td>\n",
       "      <td>...</td>\n",
       "    </tr>\n",
       "    <tr>\n",
       "      <th>271085</th>\n",
       "      <td>394884973</td>\n",
       "      <td>Walt Disney Pictures Presents the Great Mouse ...</td>\n",
       "      <td>Not Applicable (Na )</td>\n",
       "      <td>1986</td>\n",
       "      <td>Random House Childrens Books</td>\n",
       "      <td>http://images.amazon.com/images/P/0394884973.0...</td>\n",
       "    </tr>\n",
       "    <tr>\n",
       "      <th>271158</th>\n",
       "      <td>525471812</td>\n",
       "      <td>Film: A Montage of Theories</td>\n",
       "      <td>Richard Dyer, Ed. MacCann</td>\n",
       "      <td>1966</td>\n",
       "      <td>E P Dutton</td>\n",
       "      <td>http://images.amazon.com/images/P/0525471812.0...</td>\n",
       "    </tr>\n",
       "    <tr>\n",
       "      <th>271188</th>\n",
       "      <td>395647398</td>\n",
       "      <td>The Two Towers (The Lord of the Rings, Part 2)</td>\n",
       "      <td>J. R. R. Tolkien</td>\n",
       "      <td>1992</td>\n",
       "      <td>Houghton Mifflin</td>\n",
       "      <td>http://images.amazon.com/images/P/0395647398.0...</td>\n",
       "    </tr>\n",
       "    <tr>\n",
       "      <th>271278</th>\n",
       "      <td>60093269</td>\n",
       "      <td>Two of a Kind #30: Making a Splash (Two of a K...</td>\n",
       "      <td>Mary-Kate &amp;amp; Ashley Olsen</td>\n",
       "      <td>2003</td>\n",
       "      <td>HarperEntertainment</td>\n",
       "      <td>http://images.amazon.com/images/P/0060093269.0...</td>\n",
       "    </tr>\n",
       "    <tr>\n",
       "      <th>271370</th>\n",
       "      <td>1582380805</td>\n",
       "      <td>Tropical Rainforests: 230 Species in Full Colo...</td>\n",
       "      <td>Allen M., Ph.D. Young</td>\n",
       "      <td>2001</td>\n",
       "      <td>Golden Guides from St. Martin's Press</td>\n",
       "      <td>http://images.amazon.com/images/P/1582380805.0...</td>\n",
       "    </tr>\n",
       "  </tbody>\n",
       "</table>\n",
       "<p>3650 rows × 6 columns</p>\n",
       "</div>"
      ],
      "text/plain": [
       "              ISBN                                         Book-Title  \\\n",
       "0        195153448                                Classical Mythology   \n",
       "4        393045218                             The Mummies of Urumchi   \n",
       "23        61076031  Mary-Kate &amp; Ashley Switching Goals (Mary-K...   \n",
       "53        60914068                        Love, Medicine and Miracles   \n",
       "57       553280333                                 Getting Well Again   \n",
       "...            ...                                                ...   \n",
       "271085   394884973  Walt Disney Pictures Presents the Great Mouse ...   \n",
       "271158   525471812                        Film: A Montage of Theories   \n",
       "271188   395647398     The Two Towers (The Lord of the Rings, Part 2)   \n",
       "271278    60093269  Two of a Kind #30: Making a Splash (Two of a K...   \n",
       "271370  1582380805  Tropical Rainforests: 230 Species in Full Colo...   \n",
       "\n",
       "                         Book-Author Year-Of-Publication  \\\n",
       "0                 Mark P. O. Morford                2002   \n",
       "4                    E. J. W. Barber                1999   \n",
       "23      Mary-Kate &amp; Ashley Olsen                2000   \n",
       "53             M.D. Bernie S. Siegel                1988   \n",
       "57              O. Carol Simonton Md                1992   \n",
       "...                              ...                 ...   \n",
       "271085          Not Applicable (Na )                1986   \n",
       "271158     Richard Dyer, Ed. MacCann                1966   \n",
       "271188              J. R. R. Tolkien                1992   \n",
       "271278  Mary-Kate &amp; Ashley Olsen                2003   \n",
       "271370         Allen M., Ph.D. Young                2001   \n",
       "\n",
       "                                    Publisher  \\\n",
       "0                     Oxford University Press   \n",
       "4                  W. W. Norton &amp; Company   \n",
       "23                        HarperEntertainment   \n",
       "53                   HarperCollins Publishers   \n",
       "57                                     Bantam   \n",
       "...                                       ...   \n",
       "271085           Random House Childrens Books   \n",
       "271158                             E P Dutton   \n",
       "271188                       Houghton Mifflin   \n",
       "271278                    HarperEntertainment   \n",
       "271370  Golden Guides from St. Martin's Press   \n",
       "\n",
       "                                              Image-URL-M  \n",
       "0       http://images.amazon.com/images/P/0195153448.0...  \n",
       "4       http://images.amazon.com/images/P/0393045218.0...  \n",
       "23      http://images.amazon.com/images/P/0061076031.0...  \n",
       "53      http://images.amazon.com/images/P/0060914068.0...  \n",
       "57      http://images.amazon.com/images/P/0553280333.0...  \n",
       "...                                                   ...  \n",
       "271085  http://images.amazon.com/images/P/0394884973.0...  \n",
       "271158  http://images.amazon.com/images/P/0525471812.0...  \n",
       "271188  http://images.amazon.com/images/P/0395647398.0...  \n",
       "271278  http://images.amazon.com/images/P/0060093269.0...  \n",
       "271370  http://images.amazon.com/images/P/1582380805.0...  \n",
       "\n",
       "[3650 rows x 6 columns]"
      ]
     },
     "execution_count": 44,
     "metadata": {},
     "output_type": "execute_result"
    }
   ],
   "source": [
    "df[name_lengths == 4]"
   ]
  },
  {
   "cell_type": "code",
   "execution_count": null,
   "id": "b390c809-7e79-47bd-93d8-f6641bea7e80",
   "metadata": {},
   "outputs": [],
   "source": []
  }
 ],
 "metadata": {
  "kernelspec": {
   "display_name": "Python 3 (ipykernel)",
   "language": "python",
   "name": "python3"
  },
  "language_info": {
   "codemirror_mode": {
    "name": "ipython",
    "version": 3
   },
   "file_extension": ".py",
   "mimetype": "text/x-python",
   "name": "python",
   "nbconvert_exporter": "python",
   "pygments_lexer": "ipython3",
   "version": "3.10.11"
  }
 },
 "nbformat": 4,
 "nbformat_minor": 5
}
